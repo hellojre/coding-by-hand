{
 "cells": [
  {
   "cell_type": "code",
   "execution_count": null,
   "metadata": {},
   "outputs": [],
   "source": [
    "import numpy as np\n",
    "import pandas as pd\n",
    "import matplotlib.pyplot as plt"
   ]
  },
  {
   "cell_type": "code",
   "execution_count": 1,
   "metadata": {},
   "outputs": [],
   "source": [
    "def sigmoid(x):\n",
    "    return 1/(1+np.exp(x))"
   ]
  },
  {
   "cell_type": "markdown",
   "metadata": {},
   "source": [
    "sigmod函数"
   ]
  },
  {
   "cell_type": "code",
   "execution_count": null,
   "metadata": {},
   "outputs": [],
   "source": [
    "def model(X,thetas):\n",
    "    return sigmoid(np.dot(X,thetas))"
   ]
  },
  {
   "cell_type": "code",
   "execution_count": null,
   "metadata": {},
   "outputs": [],
   "source": [
    "def classify(X,thetas,threshold):\n",
    "    return model(X,thetas) > threshold"
   ]
  },
  {
   "cell_type": "markdown",
   "metadata": {},
   "source": [
    "分类器，输出的结果大于threshold就为1"
   ]
  },
  {
   "cell_type": "code",
   "execution_count": null,
   "metadata": {},
   "outputs": [],
   "source": [
    "def gradient_function(thetas,X,y):\n",
    "    diff = model(X,thetas)\n",
    "    return -(1/X.shape[0])*(np.dot((y-model(X,thetas)).reshape(1,X.shape[0]),X)).T"
   ]
  },
  {
   "cell_type": "markdown",
   "metadata": {},
   "source": [
    "在此我们假设的是二分类问题，即p(x) 是 y=1的概率 1-p(x)是y=0的概率 最后可整理为一个公式 y^ = p(x)^^y+(1-p(x))^^1-y 其中p(x)=thetas*x+b\n",
    "然后我们取似然函数，希望累乘的y^最大，再取对数，得到了损失函数\n",
    "对损失函数乘-M/1求偏导化简得到 偏导等于 -m/1 *（y-p(x))*X "
   ]
  },
  {
   "cell_type": "code",
   "execution_count": null,
   "metadata": {},
   "outputs": [],
   "source": [
    "def gradient_descent(X,y,alpha):\n",
    "    thetas = np.zeros(X.shape[1]).reshape(X.shape[1],1)\n",
    "    gradient = gradient_function(thetas,X,y)\n",
    "    while not np.all(np.absolute(gradient)<1e-2):\n",
    "        thetas = thetas - alpha*gradient\n",
    "        gradient = gradient_function(thetas,X,y)\n",
    "    return thetas"
   ]
  },
  {
   "cell_type": "code",
   "execution_count": 2,
   "metadata": {},
   "outputs": [],
   "source": [
    "def accuracy(prediction,reality):\n",
    "    ''' 准确率 '''\n",
    "    count = 0\n",
    "    arr = prediction == reality\n",
    "    for item in arr:\n",
    "        if (item == True):\n",
    "            count+=1\n",
    "    return count/len(arr)\n",
    "\n",
    "def recall(prediction,reality):\n",
    "    '''召回'''\n",
    "    count_tp = 0\n",
    "    count_fn = 0\n",
    "    for i in range(len(prediction)):\n",
    "        if(prediction[i]==True and reality[i]==True):\n",
    "            count_tp+=1\n",
    "        if(prediction[i]==True and reality[i]==False):\n",
    "            count_fn+=1\n",
    "    return count_tp/(count_tp+count_fn)\n",
    "\n",
    "def precision(cls,prediction,reality):\n",
    "        count_tp=0\n",
    "        count_fp=0\n",
    "        for i in range(len(prediction)):\n",
    "            if(reality[i]==True and prediction[i]==True):\n",
    "                count_tp +=1\n",
    "            if(reality[i]==False and prediction[i]==True):\n",
    "                count_fp +=1\n",
    "        return count_tp/(count_fp+count_tp)\n"
   ]
  },
  {
   "cell_type": "code",
   "execution_count": null,
   "metadata": {},
   "outputs": [],
   "source": [
    "if __name__ == \"__main__\":\n",
    "    pdData = pd.read_csv(\"LogiReg_data.csv\", header=None,\n",
    "                         names=[\"Score_A\", \"Score_B\", \"Admitted\"])\n",
    "    pdData.insert(0, \"one\", 1)\n",
    "    orig_data = pdData.values\n",
    "    cols = orig_data.shape[1]\n",
    "    X = orig_data[:, 0:cols-1]\n",
    "    x = orig_data[:, 1:cols-1]\n",
    "    y = orig_data[:, cols-1:cols]\n",
    "    thetas =gradient_descent(X,y,0.001)\n",
    "    print(thetas) # 打印出最优的θ\n",
    "    prediction=classify(X,thetas, 0.5) #分类器的阈值设定0.5\n",
    "    print(prediction)#打印预测分类值\n",
    "    accuracy=accuracy(prediction,y)\n",
    "    print(\"accuracy:\"+str(accuracy))# 打印准确率\n",
    "    recall=recall(prediction,y)\n",
    "    print(\"recall:\"+str(recall))#打印召回率\n",
    "    precision = precision(prediction,y)\n",
    "    print(\"precicion:\"+str(precision))#打印精确度\n"
   ]
  }
 ],
 "metadata": {
  "kernelspec": {
   "display_name": "d2l",
   "language": "python",
   "name": "python3"
  },
  "language_info": {
   "codemirror_mode": {
    "name": "ipython",
    "version": 3
   },
   "file_extension": ".py",
   "mimetype": "text/x-python",
   "name": "python",
   "nbconvert_exporter": "python",
   "pygments_lexer": "ipython3",
   "version": "3.9.19"
  }
 },
 "nbformat": 4,
 "nbformat_minor": 2
}
