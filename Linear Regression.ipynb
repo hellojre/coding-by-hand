{
 "cells": [
  {
   "cell_type": "code",
   "execution_count": 1,
   "metadata": {},
   "outputs": [],
   "source": [
    "import numpy as np\n",
    "import pandas as pd\n",
    "import matplotlib.pyplot as plt"
   ]
  },
  {
   "cell_type": "code",
   "execution_count": null,
   "metadata": {},
   "outputs": [],
   "source": [
    "def liner_model(thetas,X):\n",
    "    result = []\n",
    "    for x in X:\n",
    "        result.append(np.dot(thetas.reshape(len(thetas)),x))#thetas.reshape(len(thetas)保证了将其视为行向量\n",
    "    \n",
    "    return result"
   ]
  },
  {
   "cell_type": "code",
   "execution_count": null,
   "metadata": {},
   "outputs": [],
   "source": [
    "def solve(X,y):\n",
    "    return np.linalg.inv(X.T.dot(X)).dot(X.T).dot(y) #np.linalg.inv是求逆"
   ]
  },
  {
   "cell_type": "code",
   "execution_count": null,
   "metadata": {},
   "outputs": [],
   "source": [
    "if __name__ == \"__main__\":\n",
    "    pdData = pd.read_csv(\"Salary_Data.csv\", sep=\",\", header=None)\n",
    "    pdData.insert(0,\"x0\",1)#在第一列加入偏执值\n",
    "    orign_data = pdData.values #转换为numpy\n",
    "    cols = orign_data.shape[1] #保存列大小的值\n",
    "\n",
    "    X = orign_data[:,0:cols-1]#要所有行的出了最后一列的值 （一般是真实y）\n",
    "    x = orign_data[:,1:cols-1]\n",
    "    y = orign_data[:,cols-1:cols] #真实y\n",
    "    thetas = solve(X,y)\n",
    "\n",
    "    y_predict = liner_model(thetas,X)\n",
    "\n",
    "    plt.figure(figsize=(10,5))\n",
    "\n",
    "    plt.scatter(pdData.iloc[:,1],pdData.iloc[:,2]) #.iloc基于整数位置索引\n",
    "\n",
    "    plt.xlabel(\"Working age (Years)\")\n",
    "    plt.ylabel(\"Salary (RMB)\")\n",
    "    # 画出线性回归方程的图像\n",
    "    plt.plot(x, y_predict)\n",
    "    plt.show()"
   ]
  }
 ],
 "metadata": {
  "kernelspec": {
   "display_name": "d2l",
   "language": "python",
   "name": "python3"
  },
  "language_info": {
   "codemirror_mode": {
    "name": "ipython",
    "version": 3
   },
   "file_extension": ".py",
   "mimetype": "text/x-python",
   "name": "python",
   "nbconvert_exporter": "python",
   "pygments_lexer": "ipython3",
   "version": "3.9.19"
  }
 },
 "nbformat": 4,
 "nbformat_minor": 2
}
