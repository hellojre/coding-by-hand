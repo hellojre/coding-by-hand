{
 "cells": [
  {
   "cell_type": "code",
   "execution_count": 1,
   "metadata": {},
   "outputs": [],
   "source": [
    "import numpy as np\n",
    "import pandas as pd\n",
    "import matplotlib.pyplot as plt"
   ]
  },
  {
   "cell_type": "code",
   "execution_count": null,
   "metadata": {},
   "outputs": [],
   "source": [
    "def liner_model(thetas,X):\n",
    "    result = []\n",
    "    for x in X:\n",
    "        result.append(np.dot(thetas.reshape(len(thetas)),x))#thetas.reshape(len(thetas)保证了将其视为行向量\n",
    "    \n",
    "    return result"
   ]
  },
  {
   "cell_type": "markdown",
   "metadata": {},
   "source": [
    "这就是简单的计算y = wx"
   ]
  },
  {
   "cell_type": "code",
   "execution_count": null,
   "metadata": {},
   "outputs": [],
   "source": [
    "def solve(X,y):\n",
    "    return np.linalg.inv(X.T.dot(X)).dot(X.T).dot(y) #np.linalg.inv是求逆"
   ]
  },
  {
   "cell_type": "markdown",
   "metadata": {},
   "source": [
    "这是矩阵公式，我们假设用线性回归去拟合数据集，y^=wx+b是预测值，y*是真实值。而对于y^,我们可以看成为X矩阵+1（多一个元素）点乘W矩阵+b，相当于是新X矩阵和W矩阵点乘\n",
    "而y^与y*是有误差@，假设@符合正态分布，p(@)是可计算的，并且在计算中@可用y*-y^表示。\n",
    "当我们有数据集的时候，我们预测的y^对于每一个xi都是有误差的，按照极大似然估计，我们希望累乘p(@)是最大的，为了方便计算，取log累乘变累加，抛去无关项便可得到极小化最小二乘\n",
    "对最小二乘求偏导，求0，便可得到上述公式（矩阵形式）"
   ]
  },
  {
   "cell_type": "code",
   "execution_count": null,
   "metadata": {},
   "outputs": [],
   "source": [
    "if __name__ == \"__main__\":\n",
    "    pdData = pd.read_csv(\"Salary_Data.csv\", sep=\",\", header=None)\n",
    "    pdData.insert(0,\"x0\",1)#在第一列加入偏执值\n",
    "    orign_data = pdData.values #转换为numpy\n",
    "    cols = orign_data.shape[1] #保存列大小的值\n",
    "\n",
    "    X = orign_data[:,0:cols-1]#要所有行的出了最后一列的值 （一般是真实y）\n",
    "    x = orign_data[:,1:cols-1]\n",
    "    y = orign_data[:,cols-1:cols] #真实y\n",
    "    thetas = solve(X,y)\n",
    "\n",
    "    y_predict = liner_model(thetas,X)\n",
    "\n",
    "    plt.figure(figsize=(10,5))\n",
    "\n",
    "    plt.scatter(pdData.iloc[:,1],pdData.iloc[:,2]) #.iloc基于整数位置索引\n",
    "\n",
    "    plt.xlabel(\"Working age (Years)\")\n",
    "    plt.ylabel(\"Salary (RMB)\")\n",
    "    # 画出线性回归方程的图像\n",
    "    plt.plot(x, y_predict)\n",
    "    plt.show()"
   ]
  }
 ],
 "metadata": {
  "kernelspec": {
   "display_name": "d2l",
   "language": "python",
   "name": "python3"
  },
  "language_info": {
   "codemirror_mode": {
    "name": "ipython",
    "version": 3
   },
   "file_extension": ".py",
   "mimetype": "text/x-python",
   "name": "python",
   "nbconvert_exporter": "python",
   "pygments_lexer": "ipython3",
   "version": "3.9.19"
  }
 },
 "nbformat": 4,
 "nbformat_minor": 2
}
